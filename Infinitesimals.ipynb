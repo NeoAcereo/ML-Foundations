{
 "cells": [
  {
   "cell_type": "code",
   "execution_count": null,
   "id": "40b15135",
   "metadata": {},
   "outputs": [],
   "source": [
    "import numpy as np\n",
    "import matplotlib.pyplot as plt"
   ]
  },
  {
   "cell_type": "code",
   "execution_count": null,
   "id": "cfc47cb7",
   "metadata": {},
   "outputs": [],
   "source": [
    "x = np.linspace(-10, 10, 10000)"
   ]
  },
  {
   "cell_type": "markdown",
   "id": "dc0b9988",
   "metadata": {},
   "source": [
    "$y = x^2 + 2x + 2$"
   ]
  },
  {
   "cell_type": "code",
   "execution_count": null,
   "id": "525f9832",
   "metadata": {},
   "outputs": [],
   "source": [
    "y = x**2 + 2*x + 2"
   ]
  },
  {
   "cell_type": "code",
   "execution_count": null,
   "id": "78be4404",
   "metadata": {},
   "outputs": [],
   "source": [
    "fig, ax = plt.subplots()\n",
    "_ = ax.plot(x,y)"
   ]
  },
  {
   "cell_type": "code",
   "execution_count": null,
   "id": "b6e7cb48",
   "metadata": {},
   "outputs": [],
   "source": [
    "\n",
    "fig, ax = plt.subplots()\n",
    "ax.set_xlim([-2, -0])\n",
    "ax.set_ylim([0, 2])\n",
    "_ = ax.plot(x,y)"
   ]
  },
  {
   "cell_type": "code",
   "execution_count": null,
   "id": "d608e2ac",
   "metadata": {},
   "outputs": [],
   "source": [
    "fig, ax = plt.subplots()\n",
    "ax.set_xlim([-1.5, -0.5])\n",
    "ax.set_ylim([0.5, 1.5])\n",
    "_ = ax.plot(x,y)\n"
   ]
  },
  {
   "cell_type": "code",
   "execution_count": null,
   "id": "37987fbf",
   "metadata": {},
   "outputs": [],
   "source": [
    "fig, ax = plt.subplots()\n",
    "ax.set_xlim([-1.1, -0.9])\n",
    "ax.set_ylim([0.9, 1.1])\n",
    "_ = ax.plot(x,y)"
   ]
  },
  {
   "cell_type": "code",
   "execution_count": null,
   "id": "39fc3bbd",
   "metadata": {},
   "outputs": [],
   "source": [
    "fig, ax = plt.subplots()\n",
    "ax.set_xlim([-1.01, -0.99])\n",
    "ax.set_ylim([0.99, 1.01])\n",
    "_ = ax.plot(x,y)"
   ]
  }
 ],
 "metadata": {
  "kernelspec": {
   "display_name": "Python 3 (ipykernel)",
   "language": "python",
   "name": "python3"
  },
  "language_info": {
   "codemirror_mode": {
    "name": "ipython",
    "version": 3
   },
   "file_extension": ".py",
   "mimetype": "text/x-python",
   "name": "python",
   "nbconvert_exporter": "python",
   "pygments_lexer": "ipython3",
   "version": "3.9.12"
  }
 },
 "nbformat": 4,
 "nbformat_minor": 5
}
